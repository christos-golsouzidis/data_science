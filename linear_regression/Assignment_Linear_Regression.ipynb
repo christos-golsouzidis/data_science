{
 "cells": [
  {
   "cell_type": "markdown",
   "metadata": {},
   "source": [
    "In the assessment you will implement a linear model for a set of 20 x/y data points.\n",
    "\n",
    "We assume that the data can be described by a straight line with the slope a through the origin and an intercept b.\n",
    "$$ y = a * x + b $$"
   ]
  },
  {
   "cell_type": "code",
   "execution_count": 1,
   "metadata": {},
   "outputs": [],
   "source": [
    "import numpy as np\n",
    "import pandas as pd"
   ]
  },
  {
   "cell_type": "markdown",
   "metadata": {},
   "source": [
    "### Task 1\n",
    "Read the x/y data points from the file datapoints.csv into Python "
   ]
  },
  {
   "cell_type": "code",
   "execution_count": 2,
   "metadata": {},
   "outputs": [
    {
     "data": {
      "text/html": [
       "<div>\n",
       "<style scoped>\n",
       "    .dataframe tbody tr th:only-of-type {\n",
       "        vertical-align: middle;\n",
       "    }\n",
       "\n",
       "    .dataframe tbody tr th {\n",
       "        vertical-align: top;\n",
       "    }\n",
       "\n",
       "    .dataframe thead th {\n",
       "        text-align: right;\n",
       "    }\n",
       "</style>\n",
       "<table border=\"1\" class=\"dataframe\">\n",
       "  <thead>\n",
       "    <tr style=\"text-align: right;\">\n",
       "      <th></th>\n",
       "      <th>x</th>\n",
       "      <th>y</th>\n",
       "    </tr>\n",
       "  </thead>\n",
       "  <tbody>\n",
       "    <tr>\n",
       "      <th>0</th>\n",
       "      <td>0.000000</td>\n",
       "      <td>0.496714</td>\n",
       "    </tr>\n",
       "    <tr>\n",
       "      <th>1</th>\n",
       "      <td>0.052632</td>\n",
       "      <td>0.019630</td>\n",
       "    </tr>\n",
       "    <tr>\n",
       "      <th>2</th>\n",
       "      <td>0.105263</td>\n",
       "      <td>0.963478</td>\n",
       "    </tr>\n",
       "    <tr>\n",
       "      <th>3</th>\n",
       "      <td>0.157895</td>\n",
       "      <td>1.996714</td>\n",
       "    </tr>\n",
       "    <tr>\n",
       "      <th>4</th>\n",
       "      <td>0.210526</td>\n",
       "      <td>0.397426</td>\n",
       "    </tr>\n",
       "    <tr>\n",
       "      <th>5</th>\n",
       "      <td>0.263158</td>\n",
       "      <td>0.555337</td>\n",
       "    </tr>\n",
       "    <tr>\n",
       "      <th>6</th>\n",
       "      <td>0.315789</td>\n",
       "      <td>2.526581</td>\n",
       "    </tr>\n",
       "    <tr>\n",
       "      <th>7</th>\n",
       "      <td>0.368421</td>\n",
       "      <td>1.872698</td>\n",
       "    </tr>\n",
       "    <tr>\n",
       "      <th>8</th>\n",
       "      <td>0.421053</td>\n",
       "      <td>0.793684</td>\n",
       "    </tr>\n",
       "    <tr>\n",
       "      <th>9</th>\n",
       "      <td>0.473684</td>\n",
       "      <td>1.963613</td>\n",
       "    </tr>\n",
       "    <tr>\n",
       "      <th>10</th>\n",
       "      <td>0.526316</td>\n",
       "      <td>1.115530</td>\n",
       "    </tr>\n",
       "    <tr>\n",
       "      <th>11</th>\n",
       "      <td>0.578947</td>\n",
       "      <td>1.271112</td>\n",
       "    </tr>\n",
       "    <tr>\n",
       "      <th>12</th>\n",
       "      <td>0.631579</td>\n",
       "      <td>2.136699</td>\n",
       "    </tr>\n",
       "    <tr>\n",
       "      <th>13</th>\n",
       "      <td>0.684211</td>\n",
       "      <td>0.139351</td>\n",
       "    </tr>\n",
       "    <tr>\n",
       "      <th>14</th>\n",
       "      <td>0.736842</td>\n",
       "      <td>0.485608</td>\n",
       "    </tr>\n",
       "    <tr>\n",
       "      <th>15</th>\n",
       "      <td>0.789474</td>\n",
       "      <td>1.806134</td>\n",
       "    </tr>\n",
       "    <tr>\n",
       "      <th>16</th>\n",
       "      <td>0.842105</td>\n",
       "      <td>1.513485</td>\n",
       "    </tr>\n",
       "    <tr>\n",
       "      <th>17</th>\n",
       "      <td>0.894737</td>\n",
       "      <td>2.998458</td>\n",
       "    </tr>\n",
       "    <tr>\n",
       "      <th>18</th>\n",
       "      <td>0.947368</td>\n",
       "      <td>1.934081</td>\n",
       "    </tr>\n",
       "    <tr>\n",
       "      <th>19</th>\n",
       "      <td>1.000000</td>\n",
       "      <td>1.587696</td>\n",
       "    </tr>\n",
       "  </tbody>\n",
       "</table>\n",
       "</div>"
      ],
      "text/plain": [
       "           x         y\n",
       "0   0.000000  0.496714\n",
       "1   0.052632  0.019630\n",
       "2   0.105263  0.963478\n",
       "3   0.157895  1.996714\n",
       "4   0.210526  0.397426\n",
       "5   0.263158  0.555337\n",
       "6   0.315789  2.526581\n",
       "7   0.368421  1.872698\n",
       "8   0.421053  0.793684\n",
       "9   0.473684  1.963613\n",
       "10  0.526316  1.115530\n",
       "11  0.578947  1.271112\n",
       "12  0.631579  2.136699\n",
       "13  0.684211  0.139351\n",
       "14  0.736842  0.485608\n",
       "15  0.789474  1.806134\n",
       "16  0.842105  1.513485\n",
       "17  0.894737  2.998458\n",
       "18  0.947368  1.934081\n",
       "19  1.000000  1.587696"
      ]
     },
     "execution_count": 2,
     "metadata": {},
     "output_type": "execute_result"
    }
   ],
   "source": [
    "points_df = pd.read_csv('C:\\\\chr\\\\programming\\\\Notebooks\\\\datapoints.csv')\n",
    "points_df"
   ]
  },
  {
   "cell_type": "markdown",
   "metadata": {},
   "source": [
    "### Task 2\n",
    "Create a scatterplot of the data."
   ]
  },
  {
   "cell_type": "code",
   "execution_count": 3,
   "metadata": {},
   "outputs": [],
   "source": [
    "import matplotlib.pyplot as plt"
   ]
  },
  {
   "cell_type": "code",
   "execution_count": 4,
   "metadata": {},
   "outputs": [
    {
     "data": {
      "text/plain": [
       "<matplotlib.collections.PathCollection at 0x25d51e4ae60>"
      ]
     },
     "execution_count": 4,
     "metadata": {},
     "output_type": "execute_result"
    },
    {
     "data": {
      "image/png": "[encoded data removed]",
      "text/plain": [
       "<Figure size 640x480 with 1 Axes>"
      ]
     },
     "metadata": {},
     "output_type": "display_data"
    }
   ],
   "source": [
    "plt.scatter(points_df.x,points_df.y)"
   ]
  },
  {
   "cell_type": "markdown",
   "metadata": {},
   "source": [
    "### Task 3\n",
    "Set the slope a to 10 and the intercept b to 0. Calculate y for every value of x. "
   ]
  },
  {
   "cell_type": "code",
   "execution_count": 5,
   "metadata": {},
   "outputs": [
    {
     "data": {
      "text/plain": [
       "0      0.000000\n",
       "1      0.526316\n",
       "2      1.052632\n",
       "3      1.578947\n",
       "4      2.105263\n",
       "5      2.631579\n",
       "6      3.157895\n",
       "7      3.684211\n",
       "8      4.210526\n",
       "9      4.736842\n",
       "10     5.263158\n",
       "11     5.789474\n",
       "12     6.315789\n",
       "13     6.842105\n",
       "14     7.368421\n",
       "15     7.894737\n",
       "16     8.421053\n",
       "17     8.947368\n",
       "18     9.473684\n",
       "19    10.000000\n",
       "Name: x, dtype: float64"
      ]
     },
     "execution_count": 5,
     "metadata": {},
     "output_type": "execute_result"
    }
   ],
   "source": [
    "yy = 10 * points_df.x\n",
    "yy"
   ]
  },
  {
   "cell_type": "markdown",
   "metadata": {},
   "source": [
    "### Task 4\n",
    "\n",
    "Calculate the Mean Squared Error (MSE) of y and ytrue using the formula:\n",
    "$$ MSE = 1/N∑(y−ytrue)2 "
   ]
  },
  {
   "cell_type": "code",
   "execution_count": 6,
   "metadata": {},
   "outputs": [
    {
     "data": {
      "text/plain": [
       "21.306499419071017"
      ]
     },
     "execution_count": 6,
     "metadata": {},
     "output_type": "execute_result"
    }
   ],
   "source": [
    "n, _ = points_df.shape\n",
    "mse = (1/n)*((yy - points_df.y)**2).sum()\n",
    "mse"
   ]
  },
  {
   "cell_type": "markdown",
   "metadata": {},
   "source": [
    "\n",
    "### Task 5\n",
    "Find a value for a that gives the lowest possible MSE. Implement the following procedure:\n",
    "\n",
    "    initially set a to 10\n",
    "    repeat the following procedure 100 times:\n",
    "        decrease a by 0.1\n",
    "        re-calculate y using the modified a\n",
    "        re-calculate the MSE\n",
    "        check if the new MSE is smaller than the previous one\n",
    "        if it is smaller, keep the new values for the MSE and a, otherwise discard it \n",
    "    print the final value for a and the corresponding MSE\n",
    "\n"
   ]
  },
  {
   "cell_type": "code",
   "execution_count": 7,
   "metadata": {},
   "outputs": [
    {
     "data": {
      "text/plain": [
       "(0.7080422372498424, 2.2000000000000197)"
      ]
     },
     "execution_count": 7,
     "metadata": {},
     "output_type": "execute_result"
    }
   ],
   "source": [
    "a = 10\n",
    "best_mse = mse\n",
    "for c0 in range(0, 100):\n",
    "    a -= 0.1\n",
    "    yy = a * points_df.x\n",
    "    mse = (1/n)*((points_df.y - yy)**2).sum()\n",
    "    if(mse < best_mse):\n",
    "        best_mse = mse\n",
    "        best_a = a\n",
    "\n",
    "best_mse, best_a"
   ]
  },
  {
   "cell_type": "markdown",
   "metadata": {},
   "source": [
    "### Task 6\n",
    "Also modify b in the above procedure."
   ]
  },
  {
   "cell_type": "code",
   "execution_count": 8,
   "metadata": {},
   "outputs": [
    {
     "data": {
      "text/plain": [
       "(0.6565616618265768, 0.2000000000000188)"
      ]
     },
     "execution_count": 8,
     "metadata": {},
     "output_type": "execute_result"
    }
   ],
   "source": [
    "# considering that a = best_a\n",
    "b = 10\n",
    "best_mse = mse\n",
    "for c0 in range(0, 100):\n",
    "    b -= 0.1\n",
    "    yy = best_a * points_df.x + b\n",
    "    mse = (1/n)*((points_df.y - yy)**2).sum()\n",
    "    if(mse < best_mse):\n",
    "        best_mse = mse\n",
    "        best_b = b\n",
    "\n",
    "best_mse, best_b"
   ]
  },
  {
   "cell_type": "markdown",
   "metadata": {},
   "source": [
    "### Task 7\n",
    "How could the algorithm be improved? Write down one or two ideas."
   ]
  },
  {
   "cell_type": "markdown",
   "metadata": {},
   "source": [
    "#### Answer:\n",
    "An algorithm can be implemented that can adjust the parameters `a` and `b` by itself.  \n",
    "The error function is the MSE that is already written above.  \n",
    "We start with some random values for `a` and `b` and gradually they are going to be improved."
   ]
  },
  {
   "cell_type": "code",
   "execution_count": 11,
   "metadata": {},
   "outputs": [
    {
     "data": {
      "text/plain": [
       "(10, -2)"
      ]
     },
     "execution_count": 11,
     "metadata": {},
     "output_type": "execute_result"
    }
   ],
   "source": [
    "a = 10\n",
    "b = -2\n",
    "a, b"
   ]
  },
  {
   "attachments": {},
   "cell_type": "markdown",
   "metadata": {},
   "source": [
    "Here is the error given `a` and `b`:"
   ]
  },
  {
   "cell_type": "code",
   "execution_count": 13,
   "metadata": {},
   "outputs": [
    {
     "data": {
      "text/plain": [
       "10.621305173303698"
      ]
     },
     "execution_count": 13,
     "metadata": {},
     "output_type": "execute_result"
    }
   ],
   "source": [
    "yy = a * points_df.x + b\n",
    "mse = (1/n)*((yy - points_df.y)**2).sum()\n",
    "mse"
   ]
  },
  {
   "cell_type": "markdown",
   "metadata": {},
   "source": [
    "The linear function `yy` returns some outputs for all x points in the dataset given `a` and `b`. This however diverges from the real outputs in the dataset. The amount of the deviation is given by the `mse` function. The gradient of the `mse` can show in which direction the parameters can be updated, so that the gradient of `mse` is close to 0, which means that `mse` is close to a minimum."
   ]
  },
  {
   "cell_type": "markdown",
   "metadata": {},
   "source": [
    "$$\n",
    "\\nabla MSE = \\frac{\\partial MSE}{\\partial a} , \\frac{\\partial MSE}{\\partial b} <=>\n",
    "$$\n",
    "$$\n",
    "\\frac{\\partial MSE}{\\partial a} = \\frac{1}{n} \\frac{\\partial (yy - y)^2}{\\partial a} = \\frac{1}{n} 2(yy - y) * \\frac{\\partial (yy - y)}{\\partial a}\n",
    "$$\n",
    "$$\n",
    "= \\frac{1}{n} 2(yy - y) * \\frac{\\partial (a x + b - y)}{\\partial a}\n",
    "$$\n",
    "$$\n",
    "= \\frac{1}{n} 2(yy - y) * ( \\frac{\\partial (a x)}{\\partial a} + \\frac{\\partial (b - y)}{\\partial a} )\n",
    "$$\n",
    "$$\n",
    "= \\frac{1}{n} 2(yy - y) * x"
   ]
  },
  {
   "cell_type": "markdown",
   "metadata": {},
   "source": [
    "Respectively  \n",
    "\n",
    "$$\n",
    "\\frac{\\partial MSE}{\\partial b} = \\frac{1}{n} 2(yy - y)"
   ]
  },
  {
   "cell_type": "code",
   "execution_count": 14,
   "metadata": {},
   "outputs": [
    {
     "data": {
      "text/plain": [
       "(3.3092488964548057, 3.3425971228836575)"
      ]
     },
     "execution_count": 14,
     "metadata": {},
     "output_type": "execute_result"
    }
   ],
   "source": [
    "df_da = (2/n)*((yy - points_df.y) * points_df.x).sum()\n",
    "df_db = (2/n)*(yy - points_df.y).sum()\n",
    "df_da, df_db"
   ]
  },
  {
   "attachments": {},
   "cell_type": "markdown",
   "metadata": {},
   "source": [
    "Finally `a` and `b` are updated towards the direction to the minimum of the `mse` function. A coefficient `h` is multiplied to `df_da` and `df_db` so that the function can reach the local minimum."
   ]
  },
  {
   "cell_type": "code",
   "execution_count": null,
   "metadata": {},
   "outputs": [
    {
     "data": {
      "text/plain": [
       "(0.97684736272093, 5.997187825532295)"
      ]
     },
     "execution_count": 12,
     "metadata": {},
     "output_type": "execute_result"
    }
   ],
   "source": [
    "h = 0.01\n",
    "a = a - df_da*h\n",
    "b = b - df_db*h\n",
    "a, b"
   ]
  },
  {
   "cell_type": "code",
   "execution_count": null,
   "metadata": {},
   "outputs": [
    {
     "data": {
      "text/plain": [
       "27.141272183420952"
      ]
     },
     "execution_count": 13,
     "metadata": {},
     "output_type": "execute_result"
    }
   ],
   "source": [
    "yy = a * points_df.x + b\n",
    "mse = (1/n)*((yy - points_df.y)**2).sum()\n",
    "mse"
   ]
  },
  {
   "cell_type": "markdown",
   "metadata": {},
   "source": [
    "The error seems to decrease. After some more iterations it is expected that the error gets even smaller:"
   ]
  },
  {
   "cell_type": "code",
   "execution_count": null,
   "metadata": {},
   "outputs": [
    {
     "data": {
      "text/plain": [
       "((0.14131985820591766, 0.9490970658620924),\n",
       " (-0.7020992514460603, 2.144102027262597))"
      ]
     },
     "execution_count": 14,
     "metadata": {},
     "output_type": "execute_result"
    }
   ],
   "source": [
    "for c0 in range(0,100):\n",
    "    yy = a * points_df.x + b\n",
    "    df_da = (2/n)*((yy - points_df.y) * points_df.x).sum()\n",
    "    df_db = (2/n)*(yy - points_df.y).sum()\n",
    "    a = a - df_da*h\n",
    "    b = b - df_db*h\n",
    "\n",
    "(df_da, df_db), (a, b)"
   ]
  },
  {
   "cell_type": "code",
   "execution_count": null,
   "metadata": {},
   "outputs": [
    {
     "data": {
      "text/plain": [
       "1.0725541653773074"
      ]
     },
     "execution_count": 15,
     "metadata": {},
     "output_type": "execute_result"
    }
   ],
   "source": [
    "mse = (1/n)*((points_df.y - yy)**2).sum()\n",
    "mse"
   ]
  },
  {
   "cell_type": "markdown",
   "metadata": {},
   "source": [
    "The error is near to the algorithms in tasks 5 & 6. After some more iterations it could get smaller than the minimum error of those algorithms."
   ]
  },
  {
   "cell_type": "code",
   "execution_count": null,
   "metadata": {},
   "outputs": [
    {
     "data": {
      "text/plain": [
       "((-0.06717297896178999, 0.03621376905007152),\n",
       " (0.6459935093621177, 1.0237852956064561))"
      ]
     },
     "execution_count": 16,
     "metadata": {},
     "output_type": "execute_result"
    }
   ],
   "source": [
    "for c0 in range(0,1000):\n",
    "    yy = a * points_df.x + b\n",
    "    df_da = (2/n)*((yy - points_df.y) * points_df.x).sum()\n",
    "    df_db = (2/n)*(yy - points_df.y).sum() \n",
    "    a = a - df_da*h\n",
    "    b = b - df_db*h\n",
    "\n",
    "(df_da, df_db), (a, b)"
   ]
  },
  {
   "cell_type": "code",
   "execution_count": null,
   "metadata": {},
   "outputs": [
    {
     "data": {
      "text/plain": [
       "0.5660278293500813"
      ]
     },
     "execution_count": 17,
     "metadata": {},
     "output_type": "execute_result"
    }
   ],
   "source": [
    "mse = (1/n)*((points_df.y - yy)**2).sum()\n",
    "mse"
   ]
  },
  {
   "cell_type": "code",
   "execution_count": null,
   "metadata": {},
   "outputs": [],
   "source": []
  }
 ],
 "metadata": {
  "kernelspec": {
   "display_name": "Python 3.9.12 64-bit",
   "language": "python",
   "name": "python3"
  },
  "language_info": {
   "codemirror_mode": {
    "name": "ipython",
    "version": 3
   },
   "file_extension": ".py",
   "mimetype": "text/x-python",
   "name": "python",
   "nbconvert_exporter": "python",
   "pygments_lexer": "ipython3",
   "version": "3.10.9"
  },
  "orig_nbformat": 4,
  "vscode": {
   "interpreter": {
    "hash": "df3f64ca5e16a52414df56f6fd8e5b33b60cd9e67139926ade6a9b44fe3fa7c2"
   }
  }
 },
 "nbformat": 4,
 "nbformat_minor": 2
}
