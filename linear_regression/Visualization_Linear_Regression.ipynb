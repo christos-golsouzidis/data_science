{
 "cells": [
  {
   "cell_type": "code",
   "execution_count": null,
   "metadata": {},
   "outputs": [],
   "source": []
  },
  {
   "cell_type": "code",
   "execution_count": 229,
   "metadata": {},
   "outputs": [],
   "source": [
    "import numpy as np\n",
    "import pandas as pd\n",
    "import matplotlib.pyplot as plt\n",
    "import seaborn as sns"
   ]
  },
  {
   "cell_type": "code",
   "execution_count": 230,
   "metadata": {},
   "outputs": [
    {
     "data": {
      "text/html": [
       "<div>\n",
       "<style scoped>\n",
       "    .dataframe tbody tr th:only-of-type {\n",
       "        vertical-align: middle;\n",
       "    }\n",
       "\n",
       "    .dataframe tbody tr th {\n",
       "        vertical-align: top;\n",
       "    }\n",
       "\n",
       "    .dataframe thead th {\n",
       "        text-align: right;\n",
       "    }\n",
       "</style>\n",
       "<table border=\"1\" class=\"dataframe\">\n",
       "  <thead>\n",
       "    <tr style=\"text-align: right;\">\n",
       "      <th></th>\n",
       "      <th>x</th>\n",
       "      <th>y</th>\n",
       "    </tr>\n",
       "  </thead>\n",
       "  <tbody>\n",
       "    <tr>\n",
       "      <th>0</th>\n",
       "      <td>0.000000</td>\n",
       "      <td>0.496714</td>\n",
       "    </tr>\n",
       "    <tr>\n",
       "      <th>1</th>\n",
       "      <td>0.052632</td>\n",
       "      <td>0.019630</td>\n",
       "    </tr>\n",
       "    <tr>\n",
       "      <th>2</th>\n",
       "      <td>0.105263</td>\n",
       "      <td>0.963478</td>\n",
       "    </tr>\n",
       "    <tr>\n",
       "      <th>3</th>\n",
       "      <td>0.157895</td>\n",
       "      <td>1.996714</td>\n",
       "    </tr>\n",
       "    <tr>\n",
       "      <th>4</th>\n",
       "      <td>0.210526</td>\n",
       "      <td>0.397426</td>\n",
       "    </tr>\n",
       "    <tr>\n",
       "      <th>5</th>\n",
       "      <td>0.263158</td>\n",
       "      <td>0.555337</td>\n",
       "    </tr>\n",
       "    <tr>\n",
       "      <th>6</th>\n",
       "      <td>0.315789</td>\n",
       "      <td>2.526581</td>\n",
       "    </tr>\n",
       "    <tr>\n",
       "      <th>7</th>\n",
       "      <td>0.368421</td>\n",
       "      <td>1.872698</td>\n",
       "    </tr>\n",
       "    <tr>\n",
       "      <th>8</th>\n",
       "      <td>0.421053</td>\n",
       "      <td>0.793684</td>\n",
       "    </tr>\n",
       "    <tr>\n",
       "      <th>9</th>\n",
       "      <td>0.473684</td>\n",
       "      <td>1.963613</td>\n",
       "    </tr>\n",
       "    <tr>\n",
       "      <th>10</th>\n",
       "      <td>0.526316</td>\n",
       "      <td>1.115530</td>\n",
       "    </tr>\n",
       "    <tr>\n",
       "      <th>11</th>\n",
       "      <td>0.578947</td>\n",
       "      <td>1.271112</td>\n",
       "    </tr>\n",
       "    <tr>\n",
       "      <th>12</th>\n",
       "      <td>0.631579</td>\n",
       "      <td>2.136699</td>\n",
       "    </tr>\n",
       "    <tr>\n",
       "      <th>13</th>\n",
       "      <td>0.684211</td>\n",
       "      <td>0.139351</td>\n",
       "    </tr>\n",
       "    <tr>\n",
       "      <th>14</th>\n",
       "      <td>0.736842</td>\n",
       "      <td>0.485608</td>\n",
       "    </tr>\n",
       "    <tr>\n",
       "      <th>15</th>\n",
       "      <td>0.789474</td>\n",
       "      <td>1.806134</td>\n",
       "    </tr>\n",
       "    <tr>\n",
       "      <th>16</th>\n",
       "      <td>0.842105</td>\n",
       "      <td>1.513485</td>\n",
       "    </tr>\n",
       "    <tr>\n",
       "      <th>17</th>\n",
       "      <td>0.894737</td>\n",
       "      <td>2.998458</td>\n",
       "    </tr>\n",
       "    <tr>\n",
       "      <th>18</th>\n",
       "      <td>0.947368</td>\n",
       "      <td>1.934081</td>\n",
       "    </tr>\n",
       "    <tr>\n",
       "      <th>19</th>\n",
       "      <td>1.000000</td>\n",
       "      <td>1.587696</td>\n",
       "    </tr>\n",
       "  </tbody>\n",
       "</table>\n",
       "</div>"
      ],
      "text/plain": [
       "           x         y\n",
       "0   0.000000  0.496714\n",
       "1   0.052632  0.019630\n",
       "2   0.105263  0.963478\n",
       "3   0.157895  1.996714\n",
       "4   0.210526  0.397426\n",
       "5   0.263158  0.555337\n",
       "6   0.315789  2.526581\n",
       "7   0.368421  1.872698\n",
       "8   0.421053  0.793684\n",
       "9   0.473684  1.963613\n",
       "10  0.526316  1.115530\n",
       "11  0.578947  1.271112\n",
       "12  0.631579  2.136699\n",
       "13  0.684211  0.139351\n",
       "14  0.736842  0.485608\n",
       "15  0.789474  1.806134\n",
       "16  0.842105  1.513485\n",
       "17  0.894737  2.998458\n",
       "18  0.947368  1.934081\n",
       "19  1.000000  1.587696"
      ]
     },
     "execution_count": 230,
     "metadata": {},
     "output_type": "execute_result"
    }
   ],
   "source": [
    "points_df = pd.read_csv('./datapoints.csv')\n",
    "points_df"
   ]
  },
  {
   "cell_type": "code",
   "execution_count": 231,
   "metadata": {},
   "outputs": [
    {
     "data": {
      "text/plain": [
       "<matplotlib.collections.PathCollection at 0x18b3aa06680>"
      ]
     },
     "execution_count": 231,
     "metadata": {},
     "output_type": "execute_result"
    },
    {
     "data": {
      "image/png": "[encoded data removed]",
      "text/plain": [
       "<Figure size 640x480 with 1 Axes>"
      ]
     },
     "metadata": {},
     "output_type": "display_data"
    }
   ],
   "source": [
    "plt.scatter(points_df.x,points_df.y)"
   ]
  },
  {
   "cell_type": "code",
   "execution_count": 257,
   "metadata": {},
   "outputs": [],
   "source": [
    "def mse(predicted, true):\n",
    "    n = len(true)\n",
    "    return (1/n)*((predicted - true)**2).sum()"
   ]
  },
  {
   "cell_type": "code",
   "execution_count": 233,
   "metadata": {},
   "outputs": [
    {
     "data": {
      "text/plain": [
       "(10, -2)"
      ]
     },
     "execution_count": 233,
     "metadata": {},
     "output_type": "execute_result"
    }
   ],
   "source": [
    "a = 10\n",
    "b = -2\n",
    "a, b"
   ]
  },
  {
   "cell_type": "code",
   "execution_count": 234,
   "metadata": {},
   "outputs": [],
   "source": [
    "y_pred = a * points_df.x + b\n",
    "y_pred.name = 'y'"
   ]
  },
  {
   "cell_type": "code",
   "execution_count": 242,
   "metadata": {},
   "outputs": [
    {
     "data": {
      "text/plain": [
       "10.621305173303698"
      ]
     },
     "execution_count": 242,
     "metadata": {},
     "output_type": "execute_result"
    }
   ],
   "source": [
    "error = mse(y_pred,points_df.y)\n",
    "error"
   ]
  },
  {
   "cell_type": "code",
   "execution_count": 236,
   "metadata": {},
   "outputs": [
    {
     "data": {
      "text/html": [
       "<div>\n",
       "<style scoped>\n",
       "    .dataframe tbody tr th:only-of-type {\n",
       "        vertical-align: middle;\n",
       "    }\n",
       "\n",
       "    .dataframe tbody tr th {\n",
       "        vertical-align: top;\n",
       "    }\n",
       "\n",
       "    .dataframe thead th {\n",
       "        text-align: right;\n",
       "    }\n",
       "</style>\n",
       "<table border=\"1\" class=\"dataframe\">\n",
       "  <thead>\n",
       "    <tr style=\"text-align: right;\">\n",
       "      <th></th>\n",
       "      <th>x</th>\n",
       "      <th>y</th>\n",
       "    </tr>\n",
       "  </thead>\n",
       "  <tbody>\n",
       "    <tr>\n",
       "      <th>0</th>\n",
       "      <td>0.000000</td>\n",
       "      <td>-2.000000</td>\n",
       "    </tr>\n",
       "    <tr>\n",
       "      <th>1</th>\n",
       "      <td>0.052632</td>\n",
       "      <td>-1.473684</td>\n",
       "    </tr>\n",
       "    <tr>\n",
       "      <th>2</th>\n",
       "      <td>0.105263</td>\n",
       "      <td>-0.947368</td>\n",
       "    </tr>\n",
       "    <tr>\n",
       "      <th>3</th>\n",
       "      <td>0.157895</td>\n",
       "      <td>-0.421053</td>\n",
       "    </tr>\n",
       "    <tr>\n",
       "      <th>4</th>\n",
       "      <td>0.210526</td>\n",
       "      <td>0.105263</td>\n",
       "    </tr>\n",
       "    <tr>\n",
       "      <th>5</th>\n",
       "      <td>0.263158</td>\n",
       "      <td>0.631579</td>\n",
       "    </tr>\n",
       "    <tr>\n",
       "      <th>6</th>\n",
       "      <td>0.315789</td>\n",
       "      <td>1.157895</td>\n",
       "    </tr>\n",
       "    <tr>\n",
       "      <th>7</th>\n",
       "      <td>0.368421</td>\n",
       "      <td>1.684211</td>\n",
       "    </tr>\n",
       "    <tr>\n",
       "      <th>8</th>\n",
       "      <td>0.421053</td>\n",
       "      <td>2.210526</td>\n",
       "    </tr>\n",
       "    <tr>\n",
       "      <th>9</th>\n",
       "      <td>0.473684</td>\n",
       "      <td>2.736842</td>\n",
       "    </tr>\n",
       "    <tr>\n",
       "      <th>10</th>\n",
       "      <td>0.526316</td>\n",
       "      <td>3.263158</td>\n",
       "    </tr>\n",
       "    <tr>\n",
       "      <th>11</th>\n",
       "      <td>0.578947</td>\n",
       "      <td>3.789474</td>\n",
       "    </tr>\n",
       "    <tr>\n",
       "      <th>12</th>\n",
       "      <td>0.631579</td>\n",
       "      <td>4.315789</td>\n",
       "    </tr>\n",
       "    <tr>\n",
       "      <th>13</th>\n",
       "      <td>0.684211</td>\n",
       "      <td>4.842105</td>\n",
       "    </tr>\n",
       "    <tr>\n",
       "      <th>14</th>\n",
       "      <td>0.736842</td>\n",
       "      <td>5.368421</td>\n",
       "    </tr>\n",
       "    <tr>\n",
       "      <th>15</th>\n",
       "      <td>0.789474</td>\n",
       "      <td>5.894737</td>\n",
       "    </tr>\n",
       "    <tr>\n",
       "      <th>16</th>\n",
       "      <td>0.842105</td>\n",
       "      <td>6.421053</td>\n",
       "    </tr>\n",
       "    <tr>\n",
       "      <th>17</th>\n",
       "      <td>0.894737</td>\n",
       "      <td>6.947368</td>\n",
       "    </tr>\n",
       "    <tr>\n",
       "      <th>18</th>\n",
       "      <td>0.947368</td>\n",
       "      <td>7.473684</td>\n",
       "    </tr>\n",
       "    <tr>\n",
       "      <th>19</th>\n",
       "      <td>1.000000</td>\n",
       "      <td>8.000000</td>\n",
       "    </tr>\n",
       "  </tbody>\n",
       "</table>\n",
       "</div>"
      ],
      "text/plain": [
       "           x         y\n",
       "0   0.000000 -2.000000\n",
       "1   0.052632 -1.473684\n",
       "2   0.105263 -0.947368\n",
       "3   0.157895 -0.421053\n",
       "4   0.210526  0.105263\n",
       "5   0.263158  0.631579\n",
       "6   0.315789  1.157895\n",
       "7   0.368421  1.684211\n",
       "8   0.421053  2.210526\n",
       "9   0.473684  2.736842\n",
       "10  0.526316  3.263158\n",
       "11  0.578947  3.789474\n",
       "12  0.631579  4.315789\n",
       "13  0.684211  4.842105\n",
       "14  0.736842  5.368421\n",
       "15  0.789474  5.894737\n",
       "16  0.842105  6.421053\n",
       "17  0.894737  6.947368\n",
       "18  0.947368  7.473684\n",
       "19  1.000000  8.000000"
      ]
     },
     "execution_count": 236,
     "metadata": {},
     "output_type": "execute_result"
    }
   ],
   "source": [
    "pred_df = points_df.copy()\n",
    "pred_df.drop(['y'], axis=1, inplace=True)\n",
    "pred_df = pd.concat([pred_df,y_pred],axis=1)\n",
    "pred_df"
   ]
  },
  {
   "cell_type": "code",
   "execution_count": 239,
   "metadata": {},
   "outputs": [],
   "source": [
    "epoch = 0"
   ]
  },
  {
   "cell_type": "code",
   "execution_count": 249,
   "metadata": {},
   "outputs": [
    {
     "data": {
      "text/plain": [
       "<matplotlib.collections.PathCollection at 0x18b3b699030>"
      ]
     },
     "execution_count": 249,
     "metadata": {},
     "output_type": "execute_result"
    },
    {
     "data": {
      "image/png": "[encoded data removed]",
      "text/plain": [
       "<Figure size 640x480 with 1 Axes>"
      ]
     },
     "metadata": {},
     "output_type": "display_data"
    }
   ],
   "source": [
    "xmin = -0.1\n",
    "xmax = 1.1\n",
    "ymin = -0.5\n",
    "ymax = 4\n",
    "\n",
    "plt.axis((xmin, xmax, ymin, ymax))\n",
    "plt.title(label=f'Epoch: {epoch},   MSE: {round(error,3)}')\n",
    "sns.lineplot(x=pred_df.x, y=pred_df.y, color='red')\n",
    "plt.scatter(points_df.x,points_df.y)"
   ]
  },
  {
   "cell_type": "code",
   "execution_count": 250,
   "metadata": {},
   "outputs": [
    {
     "data": {
      "text/plain": [
       "10.621305173303698"
      ]
     },
     "execution_count": 250,
     "metadata": {},
     "output_type": "execute_result"
    }
   ],
   "source": [
    "mse(pred_df.y, points_df.y)"
   ]
  },
  {
   "cell_type": "code",
   "execution_count": 258,
   "metadata": {},
   "outputs": [],
   "source": [
    "def dmse_da(x, predicted, true):\n",
    "    n = len(true)\n",
    "    return (2/n)*((predicted - true) * x).sum()\n",
    "\n",
    "def dmse_db(predicted, true):\n",
    "    n = len(true)\n",
    "    return (2/n)*(predicted - true).sum()"
   ]
  },
  {
   "attachments": {},
   "cell_type": "markdown",
   "metadata": {},
   "source": [
    "ALGORITHM:  \n",
    "\n",
    "For each `epoch`  \n",
    "+ Calculate the predictions,  \n",
    "+ Calculate error wrt `a` and `b`,  \n",
    "+ Update `a` and `b`,  \n",
    "+ Print `error`  "
   ]
  },
  {
   "cell_type": "code",
   "execution_count": 286,
   "metadata": {},
   "outputs": [],
   "source": [
    "def fit(epochs, x, y, ytrue, lr):\n",
    "    history = []\n",
    "    params = []\n",
    "    a = 10\n",
    "    b = -2\n",
    "    for epoch in range(epochs):\n",
    "        y = a * x + b\n",
    "        error = mse(y, ytrue)\n",
    "        a -= dmse_da(x, y, ytrue) * lr\n",
    "        b -= dmse_db(y, ytrue) * lr\n",
    "        history.append((epoch, error))\n",
    "        params.append((a,b))\n",
    "    return params, history"
   ]
  },
  {
   "cell_type": "code",
   "execution_count": 287,
   "metadata": {},
   "outputs": [
    {
     "data": {
      "text/plain": [
       "3.3092488964548057"
      ]
     },
     "execution_count": 287,
     "metadata": {},
     "output_type": "execute_result"
    }
   ],
   "source": [
    "dmse_da(points_df.x, pred_df.y, points_df.y)"
   ]
  },
  {
   "cell_type": "code",
   "execution_count": 288,
   "metadata": {},
   "outputs": [
    {
     "data": {
      "text/plain": [
       "3.3425971228836575"
      ]
     },
     "execution_count": 288,
     "metadata": {},
     "output_type": "execute_result"
    }
   ],
   "source": [
    "dmse_db(pred_df.y, points_df.y)"
   ]
  },
  {
   "cell_type": "code",
   "execution_count": 289,
   "metadata": {},
   "outputs": [],
   "source": [
    "params, history = fit(200,points_df.x,pred_df.y,points_df.y,0.1)"
   ]
  },
  {
   "cell_type": "code",
   "execution_count": 290,
   "metadata": {},
   "outputs": [
    {
     "data": {
      "text/plain": [
       "[(0, 10.621305173303698),\n",
       " (1, 8.668705594653153),\n",
       " (2, 7.509358616248804),\n",
       " (3, 6.7936612898503075),\n",
       " (4, 6.326947548417019),\n",
       " (5, 6.000798435563817),\n",
       " (6, 5.754805999625601),\n",
       " (7, 5.555289175129504),\n",
       " (8, 5.38344596360616),\n",
       " (9, 5.228758317395911),\n",
       " (10, 5.085320933884896),\n",
       " (11, 4.949797641302549),\n",
       " (12, 4.820283782122111),\n",
       " (13, 4.695672919851648),\n",
       " (14, 4.575304277842934),\n",
       " (15, 4.458766448287736),\n",
       " (16, 4.345788089880613),\n",
       " (17, 4.2361770486634125),\n",
       " (18, 4.129786434602219),\n",
       " (19, 4.026495704043869),\n",
       " (20, 3.926200096155438),\n",
       " (21, 3.8288047205503455),\n",
       " (22, 3.7342212349175585),\n",
       " (23, 3.642365965272586),\n",
       " (24, 3.5531588301162054),\n",
       " (25, 3.4665227129365777),\n",
       " (26, 3.3823830851058747),\n",
       " (27, 3.300667768959776),\n",
       " (28, 3.2213067796875436),\n",
       " (29, 3.144232211847535),\n",
       " (30, 3.0693781514572382),\n",
       " (31, 2.9966806030320274),\n",
       " (32, 2.9260774256372883),\n",
       " (33, 2.8575082746300593),\n",
       " (34, 2.7909145472205825),\n",
       " (35, 2.7262393307942956),\n",
       " (36, 2.6634273533861776),\n",
       " (37, 2.6024249359512783),\n",
       " (38, 2.5431799462159037),\n",
       " (39, 2.4856417539727564),\n",
       " (40, 2.4297611877277125),\n",
       " (41, 2.375490492631014),\n",
       " (42, 2.322783289640177),\n",
       " (43, 2.2715945358703755),\n",
       " (44, 2.2218804860932004),\n",
       " (45, 2.173598655348028),\n",
       " (46, 2.1267077826323977),\n",
       " (47, 2.081167795639518),\n",
       " (48, 2.036939776512218),\n",
       " (49, 1.993985928583843),\n",
       " (50, 1.9522695440774864),\n",
       " (51, 1.911754972735892),\n",
       " (52, 1.8724075913551443),\n",
       " (53, 1.8341937741961094),\n",
       " (54, 1.7970808642483087),\n",
       " (55, 1.7610371453216709),\n",
       " (56, 1.726031814942292),\n",
       " (57, 1.6920349580290601),\n",
       " (58, 1.659017521328628),\n",
       " (59, 1.6269512885868949),\n",
       " (60, 1.595808856435776),\n",
       " (61, 1.5655636109746593),\n",
       " (62, 1.536189705026521),\n",
       " (63, 1.5076620360492825),\n",
       " (64, 1.4799562246835154),\n",
       " (65, 1.4530485939181728),\n",
       " (66, 1.4269161488565338),\n",
       " (67, 1.4015365570650802),\n",
       " (68, 1.3768881294884974),\n",
       " (69, 1.352949801914504),\n",
       " (70, 1.3297011169726616),\n",
       " (71, 1.3071222066517811),\n",
       " (72, 1.2851937753209906),\n",
       " (73, 1.2638970832399512),\n",
       " (74, 1.2432139305441288),\n",
       " (75, 1.223126641691436),\n",
       " (76, 1.2036180503569511),\n",
       " (77, 1.1846714847628146),\n",
       " (78, 1.1662707534307486),\n",
       " (79, 1.148400131345041),\n",
       " (80, 1.131044346514161),\n",
       " (81, 1.1141885669195202),\n",
       " (82, 1.0978183878402314),\n",
       " (83, 1.0819198195430295),\n",
       " (84, 1.0664792753268337),\n",
       " (85, 1.0514835599117383),\n",
       " (86, 1.0369198581625054),\n",
       " (87, 1.0227757241369217),\n",
       " (88, 1.0090390704496675),\n",
       " (89, 0.9956981579425999),\n",
       " (90, 0.9827415856526263),\n",
       " (91, 0.9701582810685978),\n",
       " (92, 0.9579374906688897),\n",
       " (93, 0.9460687707315885),\n",
       " (94, 0.9345419784094272),\n",
       " (95, 0.9233472630618471),\n",
       " (96, 0.9124750578367732),\n",
       " (97, 0.9019160714949117),\n",
       " (98, 0.8916612804695833),\n",
       " (99, 0.8817019211553048),\n",
       " (100, 0.8720294824185312),\n",
       " (101, 0.8626356983241559),\n",
       " (102, 0.8535125410715546),\n",
       " (103, 0.8446522141341353),\n",
       " (104, 0.8360471455965334),\n",
       " (105, 0.8276899816837537),\n",
       " (106, 0.8195735804767357),\n",
       " (107, 0.8116910058089654),\n",
       " (108, 0.8040355213389205),\n",
       " (109, 0.7966005847932868),\n",
       " (110, 0.7893798423760167),\n",
       " (111, 0.7823671233384641),\n",
       " (112, 0.7755564347059448),\n",
       " (113, 0.7689419561562213),\n",
       " (114, 0.7625180350455351),\n",
       " (115, 0.7562791815779333),\n",
       " (116, 0.7502200641137636),\n",
       " (117, 0.7443355046133274),\n",
       " (118, 0.7386204742117967),\n",
       " (119, 0.7330700889216151),\n",
       " (120, 0.7276796054587078),\n",
       " (121, 0.722444417188935),\n",
       " (122, 0.7173600501913255),\n",
       " (123, 0.7124221594347238),\n",
       " (124, 0.7076265250645855),\n",
       " (125, 0.7029690487967469),\n",
       " (126, 0.698445750415087),\n",
       " (127, 0.6940527643700886),\n",
       " (128, 0.6897863364753913),\n",
       " (129, 0.6856428206995163),\n",
       " (130, 0.6816186760500158),\n",
       " (131, 0.6777104635473901),\n",
       " (132, 0.6739148432861803),\n",
       " (133, 0.6702285715807331),\n",
       " (134, 0.6666484981931887),\n",
       " (135, 0.6631715636413315),\n",
       " (136, 0.6597947965839973),\n",
       " (137, 0.656515311281806),\n",
       " (138, 0.6533303051310466),\n",
       " (139, 0.6502370562686126),\n",
       " (140, 0.6472329212459318),\n",
       " (141, 0.644315332769912),\n",
       " (142, 0.6414817975089683),\n",
       " (143, 0.6387298939622538),\n",
       " (144, 0.6360572703902793),\n",
       " (145, 0.6334616428051475),\n",
       " (146, 0.6309407930186887),\n",
       " (147, 0.6284925667468264),\n",
       " (148, 0.6261148717685562),\n",
       " (149, 0.6238056761379618),\n",
       " (150, 0.6215630064477409),\n",
       " (151, 0.6193849461427594),\n",
       " (152, 0.6172696338821876),\n",
       " (153, 0.6152152619488249),\n",
       " (154, 0.6132200747042491),\n",
       " (155, 0.6112823670884705),\n",
       " (156, 0.6094004831628119),\n",
       " (157, 0.6075728146947657),\n",
       " (158, 0.6057977997836191),\n",
       " (159, 0.6040739215256762),\n",
       " (160, 0.6023997067179324),\n",
       " (161, 0.6007737245990938),\n",
       " (162, 0.5991945856268707),\n",
       " (163, 0.59766094029049),\n",
       " (164, 0.5961714779574246),\n",
       " (165, 0.5947249257533436),\n",
       " (166, 0.5933200474743302),\n",
       " (167, 0.59195564253044),\n",
       " (168, 0.5906305449196924),\n",
       " (169, 0.5893436222316206),\n",
       " (170, 0.5880937746795304),\n",
       " (171, 0.586879934160636),\n",
       " (172, 0.5857010633432747),\n",
       " (173, 0.5845561547804168),\n",
       " (174, 0.5834442300487148),\n",
       " (175, 0.5823643389123572),\n",
       " (176, 0.5813155585110085),\n",
       " (177, 0.5802969925711463),\n",
       " (178, 0.5793077706401174),\n",
       " (179, 0.5783470473422611),\n",
       " (180, 0.5774140016564625),\n",
       " (181, 0.5765078362145188),\n",
       " (182, 0.5756277766197199),\n",
       " (183, 0.5747730707850586),\n",
       " (184, 0.5739429882905077),\n",
       " (185, 0.573136819758813),\n",
       " (186, 0.5723538762492689),\n",
       " (187, 0.5715934886689592),\n",
       " (188, 0.570855007200959),\n",
       " (189, 0.5701378007490104),\n",
       " (190, 0.5694412563981962),\n",
       " (191, 0.5687647788911502),\n",
       " (192, 0.56810779011936),\n",
       " (193, 0.5674697286291212),\n",
       " (194, 0.5668500491417291),\n",
       " (195, 0.5662482220874885),\n",
       " (196, 0.565663733153152),\n",
       " (197, 0.5650960828423949),\n",
       " (198, 0.5645447860489521),\n",
       " (199, 0.5640093716420523)]"
      ]
     },
     "execution_count": 290,
     "metadata": {},
     "output_type": "execute_result"
    }
   ],
   "source": [
    "history"
   ]
  },
  {
   "cell_type": "code",
   "execution_count": 291,
   "metadata": {},
   "outputs": [
    {
     "data": {
      "text/plain": [
       "[(9.66907511035452, -2.334259712288366),\n",
       " (9.394218421229409, -2.5685749931545105),\n",
       " (9.161599244183684, -2.728541548934915),\n",
       " (8.960892771671759, -2.8332528758546665),\n",
       " (8.784389979971046, -2.896951290139275),\n",
       " (8.626333536499368, -2.93025974239689),\n",
       " (8.482422326490989, -2.9411008598558146),\n",
       " (8.349441784702758, -2.935382632822116),\n",
       " (8.224988088859828, -2.9175099970163347),\n",
       " (8.107262382309782, -2.8907665187874163),\n",
       " (7.994917244700796, -2.857599165549277),\n",
       " (7.886942144341241, -2.819830769197867),\n",
       " (7.782577974371146, -2.778818542080783),\n",
       " (7.681253288055718, -2.735572343390107),\n",
       " (7.582536723566489, -2.690842915806023),\n",
       " (7.486101507573377, -2.645187717289833),\n",
       " (7.391698970717648, -2.5990200368775698),\n",
       " (7.299138786763454, -2.5526456388621863),\n",
       " (7.20827422822564, -2.5062901020544603),\n",
       " (7.118991164749114, -2.460119216754498),\n",
       " (7.031199853927828, -2.414254202166876),\n",
       " (6.944828815546078, -2.3687830594146493),\n",
       " (6.859820260252068, -2.323769041374693),\n",
       " (6.776126677989968, -2.279256971413327),\n",
       " (6.693708291728612, -2.235277957218024),\n",
       " (6.612531156791923, -2.191852907235646),\n",
       " (6.532565741878981, -2.1489951537560747),\n",
       " (6.453785869480546, -2.1067124094811236),\n",
       " (6.376167924450298, -2.0650082268213192),\n",
       " (6.2996902626561395, -2.023883086190451),\n",
       " (6.224332768921652, -1.9833352075063404),\n",
       " (6.150076526363745, -1.9433611551856032),\n",
       " (6.076903568854042, -1.9039562890732227),\n",
       " (6.00479669551008, -1.865115100432348),\n",
       " (5.933739331478198, -1.8268314621852522),\n",
       " (5.863715423265893, -1.7890988151843872),\n",
       " (5.794709359862764, -1.7519103067624648),\n",
       " (5.726705913113446, -1.715258893684614),\n",
       " (5.659690192465507, -1.6791374185474017),\n",
       " (5.593647610453442, -1.6435386663728377),\n",
       " (5.528563856203694, -1.6084554064319803),\n",
       " (5.464424874934843, -1.5738804230543193),\n",
       " (5.401216851941358, -1.5398065382253054),\n",
       " (5.3389261999329465, -1.5062266280627459),\n",
       " (5.277539548887802, -1.473133634731857),\n",
       " (5.217043737791605, -1.4405205749626315),\n",
       " (5.157425807793488, -1.4083805460376315),\n",
       " (5.098672996429058, -1.3767067298978197),\n",
       " (5.040772732649266, -1.3454923958495273),\n",
       " (4.983712632460104, -1.3147309022329141),\n",
       " (4.927480495027487, -1.2844156973207075),\n",
       " (4.872064299138512, -1.2545403196476803),\n",
       " (4.817452199937796, -1.2250983979203611),\n",
       " (4.763632525878082, -1.1960836506184342),\n",
       " (4.710593775839628, -1.1674898853709212),\n",
       " (4.658324616384318, -1.1393109981690657),\n",
       " (4.606813879118922, -1.1115409724620502),\n",
       " (4.556050558148352, -1.0841738781698982),\n",
       " (4.506023807604448, -1.0572038706391196),\n",
       " (4.456722939239417, -1.0306251895601062),\n",
       " (4.408137420075671, -1.0044321578603923),\n",
       " (4.360256870105789, -0.9786191805842467),\n",
       " (4.31307106003781, -0.953180743766342),\n",
       " (4.2665699090821665, -0.9281114133052204),\n",
       " (4.220743482777375, -0.9034058338407587),\n",
       " (4.175581990852256, -0.8790587276387103),\n",
       " (4.13107578512286, -0.8550648934845595),\n",
       " (4.087215357422693, -0.8314192055882994),\n",
       " (4.043991337565016, -0.8081166125012745),\n",
       " (4.001394491336267, -0.785152136045887),\n",
       " (3.959415718519736, -0.7625208702587021),\n",
       " (3.9180460509487753, -0.740217980347301),\n",
       " (3.877276650588898, -0.7182387016610842),\n",
       " (3.83709880764818, -0.6965783386761228),\n",
       " (3.7975039387154363, -0.6752322639940821),\n",
       " (3.7584835849256764, -0.6541959173551751),\n",
       " (3.7200294101523776, -0.6334648046650735),\n",
       " (3.6821331992261364, -0.6130344970356624),\n",
       " (3.644786856179276, -0.5929006298395093),\n",
       " (3.607982402516006, -0.5730589017779009),\n",
       " (3.5717119755077467, -0.5535050739622871),\n",
       " (3.535967826513228, -0.5342349690089702),\n",
       " (3.5007423193230025, -0.5152444701468647),\n",
       " (3.466027928528003, -0.4965295203381578),\n",
       " (3.4318172379117904, -0.47808612141169227),\n",
       " (3.398102938866146, -0.4599103332088986),\n",
       " (3.364877828829661, -0.44199827274209924),\n",
       " (3.3321348097489922, -0.42434611336501127),\n",
       " (3.2998668865624503, -0.406950083955274),\n",
       " (3.2680671657055926, -0.38980646810883),\n",
       " (3.2367288536385073, -0.37291160334598905),\n",
       " (3.2058452553944647, -0.35626188032900774),\n",
       " (3.175409773149632, -0.33985374209101843),\n",
       " (3.1454159048135417, -0.3236836832761437),\n",
       " (3.115857242640012, -0.30774824939063494),\n",
       " (3.086727471858226, -0.29204403606487495),\n",
       " (3.0580203693236703, -0.27656768832608836),\n",
       " (3.0297298021886525, -0.2613158998816035),\n",
       " (3.0018497265921087, -0.24628541241251378),\n",
       " (2.9743741863684194, -0.23147301487758767),\n",
       " (2.9472973117749635, -0.21687554282727786),\n",
       " (2.9206133182381344, -0.20248987772768443),\n",
       " (2.89431650511755, -0.18831294629432677),\n",
       " (2.868401254488196, -0.1743417198355822),\n",
       " (2.842862029940239, -0.1605732136056511),\n",
       " (2.8176933753962543, -0.14700448616691056),\n",
       " (2.792889913945616, -0.13363263876151965),\n",
       " (2.768446346695798, -0.12045481469214307),\n",
       " (2.7443574516403455, -0.10746819871166001),\n",
       " (2.7206180825432704, -0.09467001642172834),\n",
       " (2.6972231678396335, -0.0820575336800755),\n",
       " (2.6741677095520804, -0.06962805601638952),\n",
       " (2.6514467822230965, -0.05737892805668543),\n",
       " (2.6290555318627566, -0.04530753295602377),\n",
       " (2.6069891749117424, -0.03341129183946045),\n",
       " (2.5852429972194044, -0.021687663251108387),\n",
       " (2.5638123530366546, -0.01013414261119293),\n",
       " (2.5426926640234697, 0.0012517383190144265),\n",
       " (2.5218794182707978, 0.012472411964498794),\n",
       " (2.5013681693366547, 0.023530275456153483),\n",
       " (2.4811545352962088, 0.03442769114289154),\n",
       " (2.461234197805646, 0.04516698709632658),\n",
       " (2.44160290117962, 0.05575045760813092),\n",
       " (2.422256451482089, 0.06618036368017696),\n",
       " (2.4031907156303425, 0.0764589335075669),\n",
       " (2.3844016205120293, 0.0865883629546535),\n",
       " (2.365885152114997, 0.0965708160241541),\n",
       " (2.347637354669759, 0.1064084253194578),\n",
       " (2.3296543298044017, 0.11610329250022454),\n",
       " (2.3119322357117555, 0.1256574887313737),\n",
       " (2.2944672863286493, 0.13507305512555762),\n",
       " (2.2772557505270736, 0.14435200317921537),\n",
       " (2.2602939513170823, 0.15349631520229917),\n",
       " (2.2435782650612555, 0.16250794474176533),\n",
       " (2.227105120700565, 0.17138881699892095),\n",
       " (2.2108709989914694, 0.18014082924071448),\n",
       " (2.19487243175408, 0.18876585120505887),\n",
       " (2.1791060011312355, 0.1972657255002733),\n",
       " (2.1635683388583273, 0.2056422679987293),\n",
       " (2.14825612554372, 0.21389726822478494),\n",
       " (2.1331660899596114, 0.2220324897370902),\n",
       " (2.118295008343185, 0.23004967050534525),\n",
       " (2.1036397037078993, 0.2379505232815919),\n",
       " (2.089197045164772, 0.2457367359661178),\n",
       " (2.074963947253511, 0.25340997196805126),\n",
       " (2.0609373692833537, 0.26097187056072413),\n",
       " (2.047114314683466, 0.2684240472318781),\n",
       " (2.033491830362771, 0.2757680940287901),\n",
       " (2.020067006079064, 0.2830055798983892),\n",
       " (2.006836973817282, 0.29013805102243917),\n",
       " (1.9937989071767963, 0.29716703114785736),\n",
       " (1.9809500207675912, 0.3040940219122405),\n",
       " (1.9682875696152093, 0.3109205031646675),\n",
       " (1.9558088485743266, 0.3176479332818473),\n",
       " (1.943511191750839, 0.3242777494796794),\n",
       " (1.9313919719323331, 0.3308113681202939),\n",
       " (1.9194486000268214, 0.337250185014636),\n",
       " (1.907678524509621, 0.34359557572066085),\n",
       " (1.8960792308782581, 0.3498488958372008),\n",
       " (1.8846482411152818, 0.3560114812935691),\n",
       " (1.8733831131588725, 0.3620846486349613),\n",
       " (1.8622814403811307, 0.368069695303716),\n",
       " (1.851340851073938, 0.373967899916494),\n",
       " (1.8405590079422753, 0.3797805225374356),\n",
       " (1.8299336076048955, 0.3855088049473552),\n",
       " (1.8194623801022392, 0.3911539709090288),\n",
       " (1.8091430884114919, 0.39671722642863333),\n",
       " (1.7989735279686774, 0.4021997600133917),\n",
       " (1.788951526197685, 0.4076027429254798),\n",
       " (1.7790749420461305, 0.4129273294322496),\n",
       " (1.7693416655279528, 0.4181746570528208),\n",
       " (1.759749617272646, 0.4233458468010956),\n",
       " (1.7502967480810325, 0.42844200342524613),\n",
       " (1.740981038487483, 0.4334642156437279),\n",
       " (1.731800498328486, 0.4384135563778682),\n",
       " (1.7227531663174802, 0.4432910829810802),\n",
       " (1.7138371096258536, 0.44809783746475035),\n",
       " (1.7050504234700237, 0.4528348467208491),\n",
       " (1.6963912307045093, 0.45750312274131116),\n",
       " (1.6878576814209048, 0.4621036628342322),\n",
       " (1.679447952552676, 0.4666374498369295),\n",
       " (1.6711602474856877, 0.4711054523259102),\n",
       " (1.6629927956743848, 0.47550862482379364),\n",
       " (1.6549438522635407, 0.4798479080032306),\n",
       " (1.6470116977154947, 0.48412422888786466),\n",
       " (1.639194637442799, 0.48833850105037646),\n",
       " (1.6314910014461945, 0.49249162480765546),\n",
       " (1.6238991439578403, 0.49658448741313915),\n",
       " (1.6164174430897198, 0.5006179632463615),\n",
       " (1.6090443004871486, 0.5045929139997515),\n",
       " (1.601778140987309, 0.5085101888627206),\n",
       " (1.5946174122827406, 0.5123706247030798),\n",
       " (1.5875605845897118, 0.516175046245824),\n",
       " (1.5806061503214055, 0.5199242662493222),\n",
       " (1.573752623765844, 0.5236190856789514),\n",
       " (1.5669985407684894, 0.5272602938782109),\n",
       " (1.560342458419449, 0.530848668737354),\n",
       " (1.553782954745218, 0.5343849768595725),\n",
       " (1.5473186284048968, 0.5378699737247704),\n",
       " (1.5409480983908146, 0.5413044038509609)]"
      ]
     },
     "execution_count": 291,
     "metadata": {},
     "output_type": "execute_result"
    }
   ],
   "source": [
    "params"
   ]
  },
  {
   "cell_type": "code",
   "execution_count": 313,
   "metadata": {},
   "outputs": [],
   "source": [
    "def graph_plot(epoch):\n",
    "    a,b = params[epoch]\n",
    "    epoch, error = history[epoch]\n",
    "    y_pred = a * pred_df.x + b\n",
    "    plt.axis((xmin, xmax, ymin, ymax))\n",
    "    plt.title(label=f'Epoch: {epoch+1:3},   MSE: {round(error,3):.3f}')\n",
    "    sns.lineplot(x=pred_df.x, y=y_pred, color='red')\n",
    "    plt.scatter(points_df.x,points_df.y)"
   ]
  },
  {
   "cell_type": "code",
   "execution_count": 314,
   "metadata": {},
   "outputs": [
    {
     "data": {
      "image/png": "[encoded data removed]",
      "text/plain": [
       "<Figure size 640x480 with 1 Axes>"
      ]
     },
     "metadata": {},
     "output_type": "display_data"
    }
   ],
   "source": [
    "graph_plot(0)"
   ]
  },
  {
   "cell_type": "code",
   "execution_count": 315,
   "metadata": {},
   "outputs": [
    {
     "data": {
      "image/png": "[encoded data removed]",
      "text/plain": [
       "<Figure size 640x480 with 1 Axes>"
      ]
     },
     "metadata": {},
     "output_type": "display_data"
    }
   ],
   "source": [
    "graph_plot(49)"
   ]
  },
  {
   "cell_type": "code",
   "execution_count": 316,
   "metadata": {},
   "outputs": [
    {
     "data": {
      "image/png": "[encoded data removed]",
      "text/plain": [
       "<Figure size 640x480 with 1 Axes>"
      ]
     },
     "metadata": {},
     "output_type": "display_data"
    }
   ],
   "source": [
    "graph_plot(99)"
   ]
  },
  {
   "cell_type": "code",
   "execution_count": 317,
   "metadata": {},
   "outputs": [
    {
     "data": {
      "image/png": "[encoded data removed]",
      "text/plain": [
       "<Figure size 640x480 with 1 Axes>"
      ]
     },
     "metadata": {},
     "output_type": "display_data"
    }
   ],
   "source": [
    "graph_plot(149)"
   ]
  },
  {
   "cell_type": "code",
   "execution_count": 318,
   "metadata": {},
   "outputs": [
    {
     "data": {
      "image/png": "[encoded data removed]",
      "text/plain": [
       "<Figure size 640x480 with 1 Axes>"
      ]
     },
     "metadata": {},
     "output_type": "display_data"
    }
   ],
   "source": [
    "graph_plot(199)"
   ]
  },
  {
   "cell_type": "code",
   "execution_count": 320,
   "metadata": {},
   "outputs": [],
   "source": [
    "def graph_save(epoch,path):\n",
    "    a,b = params[epoch]\n",
    "    epoch, error = history[epoch]\n",
    "    y_pred = a * pred_df.x + b\n",
    "    plt.axis((xmin, xmax, ymin, ymax))\n",
    "    plt.title(label=f'Epoch: {epoch+1:3},   MSE: {round(error,3):.3f}')\n",
    "    sns.lineplot(x=pred_df.x, y=y_pred, color='red')\n",
    "    plt.scatter(points_df.x,points_df.y)\n",
    "    fig = plt.savefig(path + str(epoch))\n",
    "    plt.close(fig)"
   ]
  },
  {
   "cell_type": "code",
   "execution_count": 321,
   "metadata": {},
   "outputs": [],
   "source": [
    "for epoch in range(200):\n",
    "    graph_save(epoch, './img/')"
   ]
  },
  {
   "cell_type": "code",
   "execution_count": 322,
   "metadata": {},
   "outputs": [],
   "source": [
    "import imageio"
   ]
  },
  {
   "cell_type": "code",
   "execution_count": 323,
   "metadata": {},
   "outputs": [
    {
     "name": "stderr",
     "output_type": "stream",
     "text": [
      "C:\\Users\\Chris\\AppData\\Local\\Temp\\ipykernel_2244\\4186363033.py:5: DeprecationWarning: Starting with ImageIO v3 the behavior of this function will switch to that of iio.v3.imread. To keep the current behavior (and make this warning disappear) use `import imageio.v2 as imageio` or call `imageio.v2.imread` directly.\n",
      "  images.append(imageio.imread(filename))\n"
     ]
    }
   ],
   "source": [
    "images = []\n",
    "\n",
    "for i in range(200):\n",
    "    filename = './img/{}.png'.format(i)\n",
    "    images.append(imageio.imread(filename))\n",
    "\n",
    "imageio.mimsave('output.gif', images, fps=15)"
   ]
  },
  {
   "cell_type": "code",
   "execution_count": null,
   "metadata": {},
   "outputs": [],
   "source": []
  }
 ],
 "metadata": {
  "kernelspec": {
   "display_name": "base",
   "language": "python",
   "name": "python3"
  },
  "language_info": {
   "codemirror_mode": {
    "name": "ipython",
    "version": 3
   },
   "file_extension": ".py",
   "mimetype": "text/x-python",
   "name": "python",
   "nbconvert_exporter": "python",
   "pygments_lexer": "ipython3",
   "version": "3.10.9"
  },
  "orig_nbformat": 4
 },
 "nbformat": 4,
 "nbformat_minor": 2
}
