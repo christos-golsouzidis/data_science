{
 "cells": [
  {
   "cell_type": "code",
   "execution_count": 1,
   "metadata": {},
   "outputs": [],
   "source": [
    "import pandas as pd\n",
    "import os\n",
    "from sqlalchemy import create_engine, text"
   ]
  },
  {
   "cell_type": "code",
   "execution_count": 2,
   "metadata": {},
   "outputs": [],
   "source": [
    "USER = 'postgres'\n",
    "PW = '...'\n",
    "HOST = '127.0.0.1'\n",
    "PORT = 5432\n",
    "DB = 'northwind'"
   ]
  },
  {
   "cell_type": "code",
   "execution_count": 4,
   "metadata": {},
   "outputs": [],
   "source": [
    "uri = f'postgresql://{USER}:{PW}@{HOST}:{PORT}/{DB}'\n",
    "conn = create_engine(uri)"
   ]
  },
  {
   "cell_type": "markdown",
   "metadata": {},
   "source": [
    "Q1: How many customers has each country?"
   ]
  },
  {
   "cell_type": "code",
   "execution_count": 6,
   "metadata": {},
   "outputs": [],
   "source": [
    "q1 = '''\n",
    "select country, count(country) as cnt from customers \n",
    "group by country\n",
    "order by cnt desc;\n",
    "'''"
   ]
  },
  {
   "cell_type": "code",
   "execution_count": 7,
   "metadata": {},
   "outputs": [
    {
     "data": {
      "text/plain": [
       "[('USA', 13),\n",
       " ('Germany', 11),\n",
       " ('France', 11),\n",
       " ('Brazil', 9),\n",
       " ('UK', 7),\n",
       " ('Mexico', 5),\n",
       " ('Spain', 5),\n",
       " ('Venezuela', 4),\n",
       " ('Argentina', 3),\n",
       " ('Italy', 3),\n",
       " ('Canada', 3),\n",
       " ('Sweden', 2),\n",
       " ('Austria', 2),\n",
       " ('Denmark', 2),\n",
       " ('Portugal', 2),\n",
       " ('Finland', 2),\n",
       " ('Belgium', 2),\n",
       " ('Switzerland', 2),\n",
       " ('Poland', 1),\n",
       " ('Norway', 1),\n",
       " ('Ireland', 1)]"
      ]
     },
     "execution_count": 7,
     "metadata": {},
     "output_type": "execute_result"
    }
   ],
   "source": [
    "conn.execute(q1).all()"
   ]
  },
  {
   "cell_type": "markdown",
   "metadata": {},
   "source": [
    "Q2: What are the most expensive products?"
   ]
  },
  {
   "cell_type": "code",
   "execution_count": 9,
   "metadata": {},
   "outputs": [],
   "source": [
    "q2 = '''\n",
    "select productname, unitprice from products p \n",
    "order by unitprice desc\n",
    "'''"
   ]
  },
  {
   "cell_type": "code",
   "execution_count": 10,
   "metadata": {},
   "outputs": [
    {
     "data": {
      "text/plain": [
       "[('Côte de Blaye', 263.5),\n",
       " ('Thüringer Rostbratwurst', 123.79),\n",
       " ('Mishi Kobe Niku', 97.0),\n",
       " (\"Sir Rodney's Marmalade\", 81.0),\n",
       " ('Carnarvon Tigers', 62.5),\n",
       " ('Raclette Courdavault', 55.0),\n",
       " ('Manjimup Dried Apples', 53.0),\n",
       " ('Tarte au sucre', 49.3),\n",
       " ('Ipoh Coffee', 46.0),\n",
       " ('Rössle Sauerkraut', 45.6),\n",
       " ('Schoggi Schokolade', 43.9),\n",
       " ('Vegie-spread', 43.9),\n",
       " ('Northwoods Cranberry Sauce', 40.0),\n",
       " ('Alice Mutton', 39.0),\n",
       " ('Gnocchi di nonna Alice', 38.0),\n",
       " ('Queso Manchego La Pastora', 38.0),\n",
       " ('Gudbrandsdalsost', 36.0),\n",
       " ('Mozzarella di Giovanni', 34.8),\n",
       " ('Camembert Pierrot', 34.0),\n",
       " ('Wimmers gute Semmelknödel', 33.25),\n",
       " ('Perth Pasties', 32.8),\n",
       " ('Mascarpone Fabioli', 32.0),\n",
       " ('Gumbär Gummibärchen', 31.23),\n",
       " ('Ikura', 31.0),\n",
       " (\"Uncle Bob's Organic Dried Pears\", 30.0),\n",
       " (\"Sirop d'érable\", 28.5),\n",
       " ('Gravad lax', 26.0),\n",
       " ('Nord-Ost Matjeshering', 25.89),\n",
       " (\"Grandma's Boysenberry Spread\", 25.0),\n",
       " ('Pâté chinois', 24.0),\n",
       " ('Tofu', 23.25),\n",
       " (\"Chef Anton's Cajun Seasoning\", 22.0),\n",
       " ('Flotemysost', 21.5),\n",
       " (\"Chef Anton's Gumbo Mix\", 21.35),\n",
       " ('Louisiana Fiery Hot Pepper Sauce', 21.05),\n",
       " ('Queso Cabrales', 21.0),\n",
       " (\"Gustaf's Knäckebröd\", 21.0),\n",
       " ('Maxilaku', 20.0),\n",
       " ('Ravioli Angelo', 19.5),\n",
       " ('Gula Malacca', 19.45),\n",
       " ('Inlagd Sill', 19.0),\n",
       " ('Chang', 19.0),\n",
       " ('Boston Crab Meat', 18.4),\n",
       " ('Chai', 18.0),\n",
       " ('Steeleye Stout', 18.0),\n",
       " ('Chartreuse verte', 18.0),\n",
       " ('Lakkalikööri', 18.0),\n",
       " ('Pavlova', 17.45),\n",
       " ('Louisiana Hot Spiced Okra', 17.0),\n",
       " ('Valkoinen suklaa', 16.25),\n",
       " ('Genen Shouyu', 15.5),\n",
       " ('Outback Lager', 15.0),\n",
       " ('Röd Kaviar', 15.0),\n",
       " ('Sasquatch Ale', 14.0),\n",
       " ('Singaporean Hokkien Fried Mee', 14.0),\n",
       " ('NuNuCa Nuß-Nougat-Creme', 14.0),\n",
       " ('Laughing Lumberjack Lager', 14.0),\n",
       " ('Escargots de Bourgogne', 13.25),\n",
       " ('Original Frankfurter grüne Soße', 13.0),\n",
       " ('Chocolade', 12.75),\n",
       " ('Gorgonzola Telino', 12.5),\n",
       " ('Scottish Longbreads', 12.5),\n",
       " ('Spegesild', 12.0),\n",
       " (\"Sir Rodney's Scones\", 10.0),\n",
       " ('Aniseed Syrup', 10.0),\n",
       " ('Longlife Tofu', 10.0),\n",
       " (\"Jack's New England Clam Chowder\", 9.65),\n",
       " ('Rogede sild', 9.5),\n",
       " ('Zaanse koeken', 9.5),\n",
       " ('Teatime Chocolate Biscuits', 9.2),\n",
       " ('Tunnbröd', 9.0),\n",
       " ('Rhönbräu Klosterbier', 7.75),\n",
       " ('Tourtière', 7.45),\n",
       " ('Filo Mix', 7.0),\n",
       " ('Konbu', 6.0),\n",
       " ('Guaraná Fantástica', 4.5),\n",
       " ('Geitost', 2.5)]"
      ]
     },
     "execution_count": 10,
     "metadata": {},
     "output_type": "execute_result"
    }
   ],
   "source": [
    "conn.execute(q2).all()"
   ]
  },
  {
   "cell_type": "markdown",
   "metadata": {},
   "source": [
    "Q3: What are the numbers of discontinued and current products?"
   ]
  },
  {
   "cell_type": "code",
   "execution_count": 11,
   "metadata": {},
   "outputs": [],
   "source": [
    "q3 = '''\n",
    "select discontinued, count(discontinued) from products p \n",
    "group by discontinued\n",
    "'''"
   ]
  },
  {
   "cell_type": "code",
   "execution_count": 12,
   "metadata": {},
   "outputs": [
    {
     "data": {
      "text/plain": [
       "[(0, 69), (1, 8)]"
      ]
     },
     "execution_count": 12,
     "metadata": {},
     "output_type": "execute_result"
    }
   ],
   "source": [
    "conn.execute(q3).all()"
   ]
  },
  {
   "cell_type": "markdown",
   "metadata": {},
   "source": [
    "Q4: What is the age of each employee when hired?"
   ]
  },
  {
   "cell_type": "code",
   "execution_count": 13,
   "metadata": {},
   "outputs": [],
   "source": [
    "q4 = '''\n",
    "select date_part('year' ,age(hiredate,birthdate)) as ageofhiring from employees e \n",
    "order by ageofhiring desc\n",
    "'''"
   ]
  },
  {
   "cell_type": "code",
   "execution_count": 14,
   "metadata": {},
   "outputs": [
    {
     "data": {
      "text/plain": [
       "[(55.0,),\n",
       " (43.0,),\n",
       " (40.0,),\n",
       " (38.0,),\n",
       " (36.0,),\n",
       " (33.0,),\n",
       " (30.0,),\n",
       " (28.0,),\n",
       " (28.0,)]"
      ]
     },
     "execution_count": 14,
     "metadata": {},
     "output_type": "execute_result"
    }
   ],
   "source": [
    "conn.execute(q4).all()"
   ]
  },
  {
   "cell_type": "code",
   "execution_count": null,
   "metadata": {},
   "outputs": [],
   "source": []
  }
 ],
 "metadata": {
  "kernelspec": {
   "display_name": "Python 3.9.12 ('base')",
   "language": "python",
   "name": "python3"
  },
  "language_info": {
   "codemirror_mode": {
    "name": "ipython",
    "version": 3
   },
   "file_extension": ".py",
   "mimetype": "text/x-python",
   "name": "python",
   "nbconvert_exporter": "python",
   "pygments_lexer": "ipython3",
   "version": "3.9.12"
  },
  "orig_nbformat": 4,
  "vscode": {
   "interpreter": {
    "hash": "df3f64ca5e16a52414df56f6fd8e5b33b60cd9e67139926ade6a9b44fe3fa7c2"
   }
  }
 },
 "nbformat": 4,
 "nbformat_minor": 2
}
